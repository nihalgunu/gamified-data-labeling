{
 "cells": [
  {
   "cell_type": "code",
   "execution_count": null,
   "metadata": {},
   "outputs": [
    {
     "name": "stdout",
     "output_type": "stream",
     "text": [
      "Status Code: 200\n",
      "Response JSON: {\n",
      "  \"message\": \"Model uploaded, validated, and saved.\",\n",
      "  \"download_url\": \"http://127.0.0.1:8000/download-model/dummy_model.pth\"\n",
      "}\n"
     ]
    }
   ],
   "source": [
    "import requests\n",
    "import json\n",
    "import fastapi\n",
    "\n",
    "\n",
    "def test_upload_model():\n",
    "    url = \"http://127.0.0.1:8000/upload-model\"\n",
    "    model_file_path = \"dummy_model.pth\"\n",
    "    \n",
    "    with open(model_file_path, \"rb\") as file:\n",
    "        files = {\"model_file\": (model_file_path, file, \"application/octet-stream\")}\n",
    "        # Send the POST request with the file\n",
    "        response = requests.post(url, files=files)\n",
    "    print(\"Status Code:\", response.status_code)\n",
    "    \n",
    "    try:\n",
    "        result = response.json()\n",
    "        print(\"Response JSON:\", json.dumps(result, indent=2))\n",
    "        \n",
    "    except Exception as e:\n",
    "        print(\"Error parsing JSON:\", e)\n",
    "        print(\"Response Text:\", response.text)\n",
    "        \n",
    "if __name__ == \"__main__\":\n",
    "    test_upload_model()\n",
    "    "
   ]
  },
  {
   "cell_type": "code",
   "execution_count": 16,
   "metadata": {},
   "outputs": [
    {
     "name": "stdout",
     "output_type": "stream",
     "text": [
      "Dummy model saved as dummy_model.pth\n"
     ]
    }
   ],
   "source": [
    "# create_dummy_model.py\n",
    "import torch\n",
    "import torch.nn as nn\n",
    "\n",
    "class DummyModel(nn.Module):\n",
    "    def __init__(self):\n",
    "        super(DummyModel, self).__init__()\n",
    "        self.linear = nn.Linear(10, 1)\n",
    "\n",
    "    def forward(self, x):\n",
    "        return self.linear(x)\n",
    "\n",
    "model = DummyModel()\n",
    "model.eval()\n",
    "\n",
    "# Convert to TorchScript using tracing.\n",
    "example_input = torch.randn(1, 10)\n",
    "scripted_model = torch.jit.trace(model, example_input)\n",
    "torch.jit.save(scripted_model, \"dummy_model.pth\")\n",
    "print(\"Dummy model saved as dummy_model.pth\")"
   ]
  }
 ],
 "metadata": {
  "kernelspec": {
   "display_name": "Python 3",
   "language": "python",
   "name": "python3"
  },
  "language_info": {
   "codemirror_mode": {
    "name": "ipython",
    "version": 3
   },
   "file_extension": ".py",
   "mimetype": "text/x-python",
   "name": "python",
   "nbconvert_exporter": "python",
   "pygments_lexer": "ipython3",
   "version": "3.11.8"
  }
 },
 "nbformat": 4,
 "nbformat_minor": 2
}

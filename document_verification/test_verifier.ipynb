{
 "cells": [
  {
   "cell_type": "code",
   "execution_count": null,
   "metadata": {},
   "outputs": [
    {
     "ename": "AttributeError",
     "evalue": "'str' object has no attribute 'filename'",
     "output_type": "error",
     "traceback": [
      "\u001b[0;31m---------------------------------------------------------------------------\u001b[0m",
      "\u001b[0;31mAttributeError\u001b[0m                            Traceback (most recent call last)",
      "Cell \u001b[0;32mIn[34], line 3\u001b[0m\n\u001b[1;32m      1\u001b[0m \u001b[38;5;28;01mfrom\u001b[39;00m \u001b[38;5;21;01mverifier\u001b[39;00m \u001b[38;5;28;01mimport\u001b[39;00m verify_diploma\n\u001b[0;32m----> 3\u001b[0m result \u001b[38;5;241m=\u001b[39m \u001b[38;5;28;01mawait\u001b[39;00m verify_diploma(\u001b[38;5;124m\"\u001b[39m\u001b[38;5;124mdocument_verification/skill-based-resume-template.png\u001b[39m\u001b[38;5;124m\"\u001b[39m)\n",
      "File \u001b[0;32m~/Coding Projects/gamified-data-labeling/document_verification/verifier.py:12\u001b[0m, in \u001b[0;36mverify_diploma\u001b[0;34m(file)\u001b[0m\n\u001b[1;32m      9\u001b[0m \u001b[38;5;129m@app\u001b[39m\u001b[38;5;241m.\u001b[39mpost(\u001b[38;5;124m\"\u001b[39m\u001b[38;5;124m/verify-diploma\u001b[39m\u001b[38;5;124m\"\u001b[39m)\n\u001b[1;32m     10\u001b[0m \u001b[38;5;28;01masync\u001b[39;00m \u001b[38;5;28;01mdef\u001b[39;00m \u001b[38;5;21mverify_diploma\u001b[39m(file: UploadFile \u001b[38;5;241m=\u001b[39m File(\u001b[38;5;241m.\u001b[39m\u001b[38;5;241m.\u001b[39m\u001b[38;5;241m.\u001b[39m)):\n\u001b[0;32m---> 12\u001b[0m     temp_file_path \u001b[38;5;241m=\u001b[39m \u001b[38;5;124mf\u001b[39m\u001b[38;5;124m\"\u001b[39m\u001b[38;5;124mtemp_\u001b[39m\u001b[38;5;132;01m{\u001b[39;00m\u001b[43mfile\u001b[49m\u001b[38;5;241;43m.\u001b[39;49m\u001b[43mfilename\u001b[49m\u001b[38;5;132;01m}\u001b[39;00m\u001b[38;5;124m\"\u001b[39m\n\u001b[1;32m     13\u001b[0m     \u001b[38;5;28;01mtry\u001b[39;00m:\n\u001b[1;32m     14\u001b[0m         \u001b[38;5;28;01mwith\u001b[39;00m \u001b[38;5;28mopen\u001b[39m(temp_file_path, \u001b[38;5;124m\"\u001b[39m\u001b[38;5;124mwb\u001b[39m\u001b[38;5;124m\"\u001b[39m) \u001b[38;5;28;01mas\u001b[39;00m buffer:\n",
      "\u001b[0;31mAttributeError\u001b[0m: 'str' object has no attribute 'filename'"
     ]
    }
   ],
   "source": [
    "import requests\n",
    "\n",
    "def test_verify_diploma():\n",
    "    url = \"http://127.0.0.1:8000/verify-diploma\"\n",
    "    file_path = \"skill-based-resume-template.png\"  # Replace with your file path\n",
    "    subject = \"Biology\"  # Replace with the subject you want to test\n",
    "\n",
    "    # Open the file in binary mode\n",
    "    with open(file_path, \"rb\") as file:\n",
    "        files = {\"file\": (file_path, file, \"image/png\")}\n",
    "        data = {\"subject\": subject}\n",
    "        response = requests.post(url, files=files, data=data)\n",
    "\n",
    "    print(\"Status Code:\", response.status_code)\n",
    "    try:\n",
    "        print(\"Response JSON:\", response.json())\n",
    "    except Exception as e:\n",
    "        print(\"Error parsing JSON:\", e)\n",
    "        print(\"Response Text:\", response.text)\n",
    "\n",
    "if __name__ == \"__main__\":\n",
    "    test_verify_diploma()"
   ]
  },
  {
   "cell_type": "code",
   "execution_count": null,
   "metadata": {},
   "outputs": [
    {
     "ename": "TypeError",
     "evalue": "verify_diploma() takes from 0 to 1 positional arguments but 2 were given",
     "output_type": "error",
     "traceback": [
      "\u001b[0;31m---------------------------------------------------------------------------\u001b[0m",
      "\u001b[0;31mTypeError\u001b[0m                                 Traceback (most recent call last)",
      "Cell \u001b[0;32mIn[25], line 3\u001b[0m\n\u001b[1;32m      1\u001b[0m \u001b[38;5;28;01mfrom\u001b[39;00m \u001b[38;5;21;01mverifier\u001b[39;00m \u001b[38;5;28;01mimport\u001b[39;00m verify_diploma\n\u001b[0;32m----> 3\u001b[0m result \u001b[38;5;241m=\u001b[39m \u001b[43mverify_diploma\u001b[49m\u001b[43m(\u001b[49m\u001b[38;5;124;43m\"\u001b[39;49m\u001b[38;5;124;43mFrank Graham\u001b[39;49m\u001b[38;5;124;43m\"\u001b[39;49m\u001b[43m,\u001b[49m\u001b[43m \u001b[49m\u001b[38;5;124;43m\"\u001b[39;49m\u001b[38;5;124;43mskill-based-resume-template.png\u001b[39;49m\u001b[38;5;124;43m\"\u001b[39;49m\u001b[43m)\u001b[49m\n\u001b[1;32m      4\u001b[0m \u001b[38;5;28mprint\u001b[39m(result)\n",
      "\u001b[0;31mTypeError\u001b[0m: verify_diploma() takes from 0 to 1 positional arguments but 2 were given"
     ]
    }
   ],
   "source": []
  }
 ],
 "metadata": {
  "kernelspec": {
   "display_name": "Python 3",
   "language": "python",
   "name": "python3"
  },
  "language_info": {
   "codemirror_mode": {
    "name": "ipython",
    "version": 3
   },
   "file_extension": ".py",
   "mimetype": "text/x-python",
   "name": "python",
   "nbconvert_exporter": "python",
   "pygments_lexer": "ipython3",
   "version": "3.11.8"
  }
 },
 "nbformat": 4,
 "nbformat_minor": 2
}
